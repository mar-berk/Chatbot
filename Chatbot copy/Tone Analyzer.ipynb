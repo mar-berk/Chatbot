{
 "cells": [
  {
   "cell_type": "code",
   "execution_count": 1,
   "metadata": {},
   "outputs": [
    {
     "name": "stdout",
     "output_type": "stream",
     "text": [
      "Requirement already satisfied: ibm_watson in /Users/marissa/opt/anaconda3/lib/python3.7/site-packages (5.1.0)\n",
      "Requirement already satisfied: websocket-client==0.48.0 in /Users/marissa/opt/anaconda3/lib/python3.7/site-packages (from ibm_watson) (0.48.0)\n",
      "Requirement already satisfied: python-dateutil>=2.5.3 in /Users/marissa/opt/anaconda3/lib/python3.7/site-packages (from ibm_watson) (2.8.0)\n",
      "Requirement already satisfied: requests<3.0,>=2.0 in /Users/marissa/opt/anaconda3/lib/python3.7/site-packages (from ibm_watson) (2.22.0)\n",
      "Requirement already satisfied: ibm-cloud-sdk-core>=3.3.6 in /Users/marissa/opt/anaconda3/lib/python3.7/site-packages (from ibm_watson) (3.8.0)\n",
      "Requirement already satisfied: six in /Users/marissa/opt/anaconda3/lib/python3.7/site-packages (from websocket-client==0.48.0->ibm_watson) (1.12.0)\n",
      "Requirement already satisfied: chardet<3.1.0,>=3.0.2 in /Users/marissa/opt/anaconda3/lib/python3.7/site-packages (from requests<3.0,>=2.0->ibm_watson) (3.0.4)\n",
      "Requirement already satisfied: certifi>=2017.4.17 in /Users/marissa/opt/anaconda3/lib/python3.7/site-packages (from requests<3.0,>=2.0->ibm_watson) (2019.9.11)\n",
      "Requirement already satisfied: idna<2.9,>=2.5 in /Users/marissa/opt/anaconda3/lib/python3.7/site-packages (from requests<3.0,>=2.0->ibm_watson) (2.8)\n",
      "Requirement already satisfied: urllib3!=1.25.0,!=1.25.1,<1.26,>=1.21.1 in /Users/marissa/opt/anaconda3/lib/python3.7/site-packages (from requests<3.0,>=2.0->ibm_watson) (1.24.2)\n",
      "Requirement already satisfied: PyJWT<3.0.0,>=2.0.1 in /Users/marissa/opt/anaconda3/lib/python3.7/site-packages (from ibm-cloud-sdk-core>=3.3.6->ibm_watson) (2.0.1)\n"
     ]
    }
   ],
   "source": [
    "!pip install ibm_watson\n"
   ]
  },
  {
   "cell_type": "code",
   "execution_count": 2,
   "metadata": {},
   "outputs": [
    {
     "name": "stdout",
     "output_type": "stream",
     "text": [
      "Requirement already satisfied: ibm_watson==4.3.0 in /Library/Frameworks/Python.framework/Versions/3.8/lib/python3.8/site-packages (4.3.0)\n",
      "Requirement already satisfied: requests<3.0,>=2.0 in /Library/Frameworks/Python.framework/Versions/3.8/lib/python3.8/site-packages (from ibm_watson==4.3.0) (2.24.0)\n",
      "Requirement already satisfied: ibm-cloud-sdk-core==1.5.1 in /Library/Frameworks/Python.framework/Versions/3.8/lib/python3.8/site-packages (from ibm_watson==4.3.0) (1.5.1)\n",
      "Requirement already satisfied: python-dateutil>=2.5.3 in /Library/Frameworks/Python.framework/Versions/3.8/lib/python3.8/site-packages (from ibm_watson==4.3.0) (2.8.1)\n",
      "Requirement already satisfied: websocket-client==0.48.0 in /Library/Frameworks/Python.framework/Versions/3.8/lib/python3.8/site-packages (from ibm_watson==4.3.0) (0.48.0)\n",
      "Requirement already satisfied: chardet<4,>=3.0.2 in /Library/Frameworks/Python.framework/Versions/3.8/lib/python3.8/site-packages (from requests<3.0,>=2.0->ibm_watson==4.3.0) (3.0.4)\n",
      "Requirement already satisfied: certifi>=2017.4.17 in /Library/Frameworks/Python.framework/Versions/3.8/lib/python3.8/site-packages (from requests<3.0,>=2.0->ibm_watson==4.3.0) (2020.6.20)\n",
      "Requirement already satisfied: idna<3,>=2.5 in /Library/Frameworks/Python.framework/Versions/3.8/lib/python3.8/site-packages (from requests<3.0,>=2.0->ibm_watson==4.3.0) (2.10)\n",
      "Requirement already satisfied: urllib3!=1.25.0,!=1.25.1,<1.26,>=1.21.1 in /Library/Frameworks/Python.framework/Versions/3.8/lib/python3.8/site-packages (from requests<3.0,>=2.0->ibm_watson==4.3.0) (1.25.10)\n",
      "Requirement already satisfied: PyJWT>=1.7.1 in /Library/Frameworks/Python.framework/Versions/3.8/lib/python3.8/site-packages (from ibm-cloud-sdk-core==1.5.1->ibm_watson==4.3.0) (1.7.1)\n",
      "Requirement already satisfied: six>=1.5 in /Users/marissa/Library/Python/3.8/lib/python/site-packages (from python-dateutil>=2.5.3->ibm_watson==4.3.0) (1.15.0)\n",
      "\u001b[33mWARNING: You are using pip version 20.1.1; however, version 21.0.1 is available.\n",
      "You should consider upgrading via the '/Library/Frameworks/Python.framework/Versions/3.8/bin/python3.8 -m pip install --upgrade pip' command.\u001b[0m\n",
      "Note: you may need to restart the kernel to use updated packages.\n"
     ]
    }
   ],
   "source": [
    "pip install \"ibm_watson==4.3.0\""
   ]
  },
  {
   "cell_type": "code",
   "execution_count": 3,
   "metadata": {},
   "outputs": [
    {
     "name": "stdout",
     "output_type": "stream",
     "text": [
      "Requirement already satisfied: PyJWT==1.7.1 in /Library/Frameworks/Python.framework/Versions/3.8/lib/python3.8/site-packages (1.7.1)\n",
      "\u001b[33mWARNING: You are using pip version 20.1.1; however, version 21.0.1 is available.\n",
      "You should consider upgrading via the '/Library/Frameworks/Python.framework/Versions/3.8/bin/python3.8 -m pip install --upgrade pip' command.\u001b[0m\n",
      "Note: you may need to restart the kernel to use updated packages.\n"
     ]
    }
   ],
   "source": [
    "pip install PyJWT==1.7.1"
   ]
  },
  {
   "cell_type": "code",
   "execution_count": 4,
   "metadata": {},
   "outputs": [
    {
     "name": "stdout",
     "output_type": "stream",
     "text": [
      "Requirement already satisfied: PyJWT in /Library/Frameworks/Python.framework/Versions/3.8/lib/python3.8/site-packages (1.7.1)\n",
      "\u001b[33mWARNING: You are using pip version 20.1.1; however, version 21.0.1 is available.\n",
      "You should consider upgrading via the '/Library/Frameworks/Python.framework/Versions/3.8/bin/python3.8 -m pip install --upgrade pip' command.\u001b[0m\n",
      "Note: you may need to restart the kernel to use updated packages.\n"
     ]
    }
   ],
   "source": [
    " pip install PyJWT"
   ]
  },
  {
   "cell_type": "markdown",
   "metadata": {},
   "source": [
    "# 1. Authenticate"
   ]
  },
  {
   "cell_type": "code",
   "execution_count": 3,
   "metadata": {},
   "outputs": [],
   "source": [
    "#create new variables for personl apikey and service url\n",
    "apikey = 'NoIHvV74r66HvltTcYz-7vGc13NH4_HQHZom8vm7nPM5'\n",
    "url = 'https://api.eu-gb.tone-analyzer.watson.cloud.ibm.com/instances/bb1b62d9-595a-4277-a7c2-25b81ad9768e'"
   ]
  },
  {
   "cell_type": "code",
   "execution_count": 4,
   "metadata": {},
   "outputs": [],
   "source": [
    "from ibm_watson import ToneAnalyzerV3\n",
    "from ibm_cloud_sdk_core.authenticators import IAMAuthenticator"
   ]
  },
  {
   "cell_type": "code",
   "execution_count": 5,
   "metadata": {},
   "outputs": [],
   "source": [
    "\n",
    "authenticator = IAMAuthenticator(apikey)\n",
    "ta = ToneAnalyzerV3(version='2017-09-21', authenticator=authenticator)\n",
    "ta.set_service_url(url)"
   ]
  },
  {
   "cell_type": "markdown",
   "metadata": {},
   "source": [
    "# 2. Analyze Tone "
   ]
  },
  {
   "cell_type": "code",
   "execution_count": 6,
   "metadata": {},
   "outputs": [],
   "source": [
    "res = ta.tone('I am feeling amazing thanks!').get_result()"
   ]
  },
  {
   "cell_type": "code",
   "execution_count": 7,
   "metadata": {},
   "outputs": [
    {
     "data": {
      "text/plain": [
       "{'document_tone': {'tones': [{'score': 0.961684,\n",
       "    'tone_id': 'joy',\n",
       "    'tone_name': 'Joy'}]}}"
      ]
     },
     "execution_count": 7,
     "metadata": {},
     "output_type": "execute_result"
    }
   ],
   "source": [
    "res"
   ]
  },
  {
   "cell_type": "code",
   "execution_count": 32,
   "metadata": {},
   "outputs": [],
   "source": [
    "res = ta.tone('I am feeling very annoyed').get_result()"
   ]
  },
  {
   "cell_type": "code",
   "execution_count": 33,
   "metadata": {},
   "outputs": [
    {
     "data": {
      "text/plain": [
       "{'document_tone': {'tones': [{'score': 1.0,\n",
       "    'tone_id': 'anger',\n",
       "    'tone_name': 'Anger'},\n",
       "   {'score': 0.961633, 'tone_id': 'confident', 'tone_name': 'Confident'}]}}"
      ]
     },
     "execution_count": 33,
     "metadata": {},
     "output_type": "execute_result"
    }
   ],
   "source": [
    "res"
   ]
  },
  {
   "cell_type": "markdown",
   "metadata": {},
   "source": [
    "The tone analyzer is succesfully able to identify the tone of an individual sentence. Now let's explore how it handles a chat situation."
   ]
  },
  {
   "cell_type": "markdown",
   "metadata": {},
   "source": [
    "# 3. Analyze Chat Tone"
   ]
  },
  {
   "cell_type": "code",
   "execution_count": 8,
   "metadata": {},
   "outputs": [],
   "source": [
    "chat = [\n",
    "    {\n",
    "    \"text\":\"I feel great, it's sunny outside, and I've got all my work done.\", \n",
    "    \"user\":\"He who shall not be named\"\n",
    "    }, \n",
    "    {\n",
    "    \"text\":\"This sucks, I have like 500 hundred hours more coding to do. This is going to take all weekend\", \n",
    "    \"user\":\"Nick\"\n",
    "    }\n",
    "]"
   ]
  },
  {
   "cell_type": "code",
   "execution_count": 9,
   "metadata": {},
   "outputs": [],
   "source": [
    "res = ta.tone_chat(chat).get_result()\n"
   ]
  },
  {
   "cell_type": "code",
   "execution_count": 10,
   "metadata": {},
   "outputs": [
    {
     "data": {
      "text/plain": [
       "{'utterances_tone': [{'utterance_id': 0,\n",
       "   'utterance_text': \"I feel great, it's sunny outside, and I've got all my work done.\",\n",
       "   'tones': [{'score': 0.81063,\n",
       "     'tone_id': 'excited',\n",
       "     'tone_name': 'Excited'}]},\n",
       "  {'utterance_id': 1,\n",
       "   'utterance_text': 'This sucks, I have like 500 hundred hours more coding to do. This is going to take all weekend',\n",
       "   'tones': [{'score': 0.624277,\n",
       "     'tone_id': 'frustrated',\n",
       "     'tone_name': 'Frustrated'},\n",
       "    {'score': 0.788803, 'tone_id': 'impolite', 'tone_name': 'Impolite'},\n",
       "    {'score': 0.643228, 'tone_id': 'sad', 'tone_name': 'Sad'}]}]}"
      ]
     },
     "execution_count": 10,
     "metadata": {},
     "output_type": "execute_result"
    }
   ],
   "source": [
    "res"
   ]
  },
  {
   "cell_type": "markdown",
   "metadata": {},
   "source": [
    "The Tone Analyzer can succesfully identify the tone from a chat scenario. However, how does it handle situations specifically pertaining to energy poverty?"
   ]
  },
  {
   "cell_type": "markdown",
   "metadata": {},
   "source": [
    "### Tone Analysis for Energy Poverty chat interactions"
   ]
  },
  {
   "cell_type": "code",
   "execution_count": 11,
   "metadata": {},
   "outputs": [],
   "source": [
    "chat = [\n",
    "    {\n",
    "    \"text\":\"I can't pay my energy bill. I need help avoiding disconnection\", \n",
    "    \"user\":\"user_1\"\n",
    "    }, \n",
    "    {\n",
    "    \"text\":\"tips for reducing energy bill\", \n",
    "    \"user\":\"user_2\"\n",
    "    }\n",
    "]"
   ]
  },
  {
   "cell_type": "code",
   "execution_count": 12,
   "metadata": {},
   "outputs": [],
   "source": [
    "res = ta.tone_chat(chat).get_result()"
   ]
  },
  {
   "cell_type": "code",
   "execution_count": 13,
   "metadata": {},
   "outputs": [
    {
     "data": {
      "text/plain": [
       "{'utterances_tone': [{'utterance_id': 0,\n",
       "   'utterance_text': \"I can't pay my energy bill. I need help avoiding disconnection\",\n",
       "   'tones': [{'score': 0.630494, 'tone_id': 'sad', 'tone_name': 'Sad'}]},\n",
       "  {'utterance_id': 1,\n",
       "   'utterance_text': 'tips for reducing energy bill',\n",
       "   'tones': [{'score': 0.573378,\n",
       "     'tone_id': 'excited',\n",
       "     'tone_name': 'Excited'}]}]}"
      ]
     },
     "execution_count": 13,
     "metadata": {},
     "output_type": "execute_result"
    }
   ],
   "source": [
    "res"
   ]
  },
  {
   "cell_type": "markdown",
   "metadata": {},
   "source": [
    "For utterance 0: \"I can't pay my energy bill. I need help avoiding disconnection\" The tone is accurately and appropriately analyzed as 'sad'. A chatbot response acknowledging how difficult the situation is for the user would be appropriate.\n",
    "\n",
    "For utterance 1: \"tips for reducing energy bill\" The tone is identified as 'excited'. A chatbot response such as 'congratulations' or 'how exciting that you want to reduce your energy bill' may be appropriate in a different scenario where the motivations are purely environmental. However; since this chatbot is specifically designed to assist those dealing with energy poverty, the user is likely quite stressed and needs to reduce their energy bill in order to afford necessities such as food, clothing or transportation. Proper responses for chats marked as 'ecxited' need to be strategically formulated and tested among users."
   ]
  },
  {
   "cell_type": "code",
   "execution_count": 34,
   "metadata": {},
   "outputs": [],
   "source": [
    "chat = [\n",
    "    {\n",
    "    \"text\":\"Help paying bill\", \n",
    "    \"user\":\"user_1\"\n",
    "    }, \n",
    "    {\n",
    "    \"text\":\"Need to reduce energy bill\", \n",
    "    \"user\":\"user_2\"\n",
    "    }\n",
    "]"
   ]
  },
  {
   "cell_type": "code",
   "execution_count": 35,
   "metadata": {},
   "outputs": [],
   "source": [
    "res = ta.tone_chat(chat).get_result()"
   ]
  },
  {
   "cell_type": "code",
   "execution_count": 36,
   "metadata": {},
   "outputs": [
    {
     "data": {
      "text/plain": [
       "{'utterances_tone': [{'utterance_id': 0,\n",
       "   'utterance_text': 'Help paying bill',\n",
       "   'tones': [{'score': 0.592129, 'tone_id': 'sad', 'tone_name': 'Sad'}]},\n",
       "  {'utterance_id': 1,\n",
       "   'utterance_text': 'Need to reduce energy bill',\n",
       "   'tones': [{'score': 0.77904,\n",
       "     'tone_id': 'excited',\n",
       "     'tone_name': 'Excited'}]}]}"
      ]
     },
     "execution_count": 36,
     "metadata": {},
     "output_type": "execute_result"
    }
   ],
   "source": [
    "res"
   ]
  },
  {
   "cell_type": "markdown",
   "metadata": {},
   "source": [
    "Again, utterance 0 is correctly identified as sad and utterance 1 is again identified as 'excited'. Perhaps hopeful is a more accurate tone for this specific use case. More examples need to be explored in order to formulate an appropriate response for a chat that is labeled as 'excited'."
   ]
  },
  {
   "cell_type": "code",
   "execution_count": 23,
   "metadata": {},
   "outputs": [],
   "source": [
    "chat = [\n",
    "    {\n",
    "    \"text\":\"Please I need help paying my energy bill\", \n",
    "    \"user\":\"user_1\"\n",
    "    }, \n",
    "    {\n",
    "    \"text\":\"I am struggling to pay my energy bill\", \n",
    "    \"user\":\"user_2\"\n",
    "    }\n",
    "]"
   ]
  },
  {
   "cell_type": "code",
   "execution_count": 24,
   "metadata": {},
   "outputs": [],
   "source": [
    "res = ta.tone_chat(chat).get_result()"
   ]
  },
  {
   "cell_type": "code",
   "execution_count": 25,
   "metadata": {},
   "outputs": [
    {
     "data": {
      "text/plain": [
       "{'utterances_tone': [{'utterance_id': 0,\n",
       "   'utterance_text': 'Please I need help paying my energy bill',\n",
       "   'tones': [{'score': 0.777143, 'tone_id': 'polite', 'tone_name': 'Polite'}]},\n",
       "  {'utterance_id': 1,\n",
       "   'utterance_text': 'I am struggling to pay my energy bill',\n",
       "   'tones': [{'score': 0.507965, 'tone_id': 'sad', 'tone_name': 'Sad'}]}]}"
      ]
     },
     "execution_count": 25,
     "metadata": {},
     "output_type": "execute_result"
    }
   ],
   "source": [
    "res"
   ]
  },
  {
   "cell_type": "markdown",
   "metadata": {},
   "source": [
    "Here, a new tone of 'polite' appears, it is important to notice that while \"Please I need help paying my energy bill\" is polite, there is also a hint of desparation in the message that Tone Analyzer does not pick up on. An appropriate chatbot response to this message should thank the user for their patience/ politeness, however; the seriousness of the situation should also be addressed. An example of an appropriate chatbot response might be: \"I understand that this can be a very frustrating experience, thank you for your patience, you are very polite :) let's find a solution together!\" "
   ]
  },
  {
   "cell_type": "code",
   "execution_count": 26,
   "metadata": {},
   "outputs": [],
   "source": [
    "chat = [\n",
    "    {\n",
    "    \"text\":\"Please stop giving me the same results\", \n",
    "    \"user\":\"user_1\"\n",
    "    }, \n",
    "    {\n",
    "    \"text\":\"I need help\", \n",
    "    \"user\":\"user_2\"\n",
    "    }\n",
    "]"
   ]
  },
  {
   "cell_type": "code",
   "execution_count": 27,
   "metadata": {},
   "outputs": [],
   "source": [
    "res = ta.tone_chat(chat).get_result()"
   ]
  },
  {
   "cell_type": "code",
   "execution_count": 28,
   "metadata": {},
   "outputs": [
    {
     "data": {
      "text/plain": [
       "{'utterances_tone': [{'utterance_id': 0,\n",
       "   'utterance_text': 'Please stop giving me the same results',\n",
       "   'tones': [{'score': 0.736788, 'tone_id': 'polite', 'tone_name': 'Polite'}]},\n",
       "  {'utterance_id': 1,\n",
       "   'utterance_text': 'I need help',\n",
       "   'tones': [{'score': 0.706723,\n",
       "     'tone_id': 'polite',\n",
       "     'tone_name': 'Polite'}]}]}"
      ]
     },
     "execution_count": 28,
     "metadata": {},
     "output_type": "execute_result"
    }
   ],
   "source": [
    "res"
   ]
  },
  {
   "cell_type": "markdown",
   "metadata": {},
   "source": [
    "For utterance 0 the tone is identified as 'polite', however; it appears that the user is also very frustrating. This example shows how it is important to hard code in a specific response for when the word 'stop' appears. An appropriate chatbot response might be: \"I see the way we are working is not very helpful for you, what can I do to better assist you?\" followed by a few multiple choice questions to resolve the answer."
   ]
  },
  {
   "cell_type": "code",
   "execution_count": 29,
   "metadata": {},
   "outputs": [],
   "source": [
    "chat = [\n",
    "    {\n",
    "    \"text\":\"Stop giving me the same results\", \n",
    "    \"user\":\"user_1\"\n",
    "    }, \n",
    "    {\n",
    "    \"text\":\"this is not helpful\", \n",
    "    \"user\":\"user_2\"\n",
    "    }\n",
    "]"
   ]
  },
  {
   "cell_type": "code",
   "execution_count": 30,
   "metadata": {},
   "outputs": [],
   "source": [
    "res = ta.tone_chat(chat).get_result()"
   ]
  },
  {
   "cell_type": "code",
   "execution_count": 31,
   "metadata": {},
   "outputs": [
    {
     "data": {
      "text/plain": [
       "{'utterances_tone': [{'utterance_id': 0,\n",
       "   'utterance_text': 'Stop giving me the same results',\n",
       "   'tones': [{'score': 0.743989,\n",
       "     'tone_id': 'frustrated',\n",
       "     'tone_name': 'Frustrated'}]},\n",
       "  {'utterance_id': 1,\n",
       "   'utterance_text': 'this is not helpful',\n",
       "   'tones': [{'score': 0.514103,\n",
       "     'tone_id': 'frustrated',\n",
       "     'tone_name': 'Frustrated'},\n",
       "    {'score': 0.505124, 'tone_id': 'sad', 'tone_name': 'Sad'}]}]}"
      ]
     },
     "execution_count": 31,
     "metadata": {},
     "output_type": "execute_result"
    }
   ],
   "source": [
    "res"
   ]
  },
  {
   "cell_type": "code",
   "execution_count": null,
   "metadata": {},
   "outputs": [],
   "source": []
  }
 ],
 "metadata": {
  "kernelspec": {
   "display_name": "Python 3",
   "language": "python",
   "name": "python3"
  },
  "language_info": {
   "codemirror_mode": {
    "name": "ipython",
    "version": 3
   },
   "file_extension": ".py",
   "mimetype": "text/x-python",
   "name": "python",
   "nbconvert_exporter": "python",
   "pygments_lexer": "ipython3",
   "version": "3.8.5"
  }
 },
 "nbformat": 4,
 "nbformat_minor": 4
}
