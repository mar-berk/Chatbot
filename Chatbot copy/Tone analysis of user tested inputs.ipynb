{
 "cells": [
  {
   "cell_type": "markdown",
   "metadata": {},
   "source": [
    "# 1. Authenticate"
   ]
  },
  {
   "cell_type": "code",
   "execution_count": 1,
   "metadata": {},
   "outputs": [],
   "source": [
    "#create new variables for personl apikey and service url\n",
    "apikey = 'NoIHvV74r66HvltTcYz-7vGc13NH4_HQHZom8vm7nPM5'\n",
    "url = 'https://api.eu-gb.tone-analyzer.watson.cloud.ibm.com/instances/bb1b62d9-595a-4277-a7c2-25b81ad9768e'"
   ]
  },
  {
   "cell_type": "code",
   "execution_count": 2,
   "metadata": {},
   "outputs": [],
   "source": [
    "from ibm_watson import ToneAnalyzerV3\n",
    "from ibm_cloud_sdk_core.authenticators import IAMAuthenticator"
   ]
  },
  {
   "cell_type": "code",
   "execution_count": 3,
   "metadata": {},
   "outputs": [],
   "source": [
    "authenticator = IAMAuthenticator(apikey)\n",
    "ta = ToneAnalyzerV3(version='2017-09-21', authenticator=authenticator)\n",
    "ta.set_service_url(url)"
   ]
  },
  {
   "cell_type": "markdown",
   "metadata": {},
   "source": [
    "# 2. Analyze Tone\n",
    "\n",
    "   ### General Help Inputs\n",
    "  "
   ]
  },
  {
   "cell_type": "code",
   "execution_count": 4,
   "metadata": {},
   "outputs": [],
   "source": [
    "chat = [\n",
    "    {\n",
    "    \"text\":\"What resources are available to me to lower my bill?\", \n",
    "    \"user\":\"User_1\"\n",
    "    }, \n",
    "    {\n",
    "    \"text\":\"Reduce power costs\", \n",
    "    \"user\":\"User_2\"\n",
    "    }, \n",
    "    {\n",
    "    \"text\":\"Good morning/good evening, I have a question regarding my energy bill and would like your help.\", \n",
    "    \"user\":\"User_3\"\n",
    "    }, \n",
    "    {\n",
    "    \"text\":\"How can I have a comfortable temperature & still afford to pay my bill?\", \n",
    "    \"user\":\"User_4\"\n",
    "    }, \n",
    "    {\n",
    "    \"text\":\"Help paying energy bill\", \n",
    "    \"user\":\"User_5\"\n",
    "    }, \n",
    "    {\n",
    "    \"text\":\"Hi, I’m looking for resources to both help reduce and afford my energy bill.\", \n",
    "    \"user\":\"User_6\"\n",
    "    }, \n",
    "    {\n",
    "    \"text\":\"My energy bill is rather high. Can you help?\", \n",
    "    \"user\":\"User_7\"\n",
    "    }, \n",
    "    {\n",
    "    \"text\":\"Not enough money to pay my bill\", \n",
    "    \"user\":\"User_8\"\n",
    "    }, \n",
    "    {\n",
    "    \"text\":\"Hello bot, what can I do to lower my energy bill?\", \n",
    "    \"user\":\"User_9\"\n",
    "    }, \n",
    "    {\n",
    "    \"text\":\"I cannot afford to pay my bill this month, what solutions do you have for me?\", \n",
    "    \"user\":\"User_10\"\n",
    "    }, \n",
    "    {\n",
    "    \"text\":\"How can I afford my bill\", \n",
    "    \"user\":\"User_11\"\n",
    "    }\n",
    "]"
   ]
  },
  {
   "cell_type": "code",
   "execution_count": 5,
   "metadata": {},
   "outputs": [],
   "source": [
    "res = ta.tone_chat(chat).get_result()"
   ]
  },
  {
   "cell_type": "code",
   "execution_count": 6,
   "metadata": {},
   "outputs": [
    {
     "data": {
      "text/plain": [
       "{'utterances_tone': [{'utterance_id': 0,\n",
       "   'utterance_text': 'What resources are available to me to lower my bill?',\n",
       "   'tones': []},\n",
       "  {'utterance_id': 1, 'utterance_text': 'Reduce power costs', 'tones': []},\n",
       "  {'utterance_id': 2,\n",
       "   'utterance_text': 'Good morning/good evening, I have a question regarding my energy bill and would like your help.',\n",
       "   'tones': [{'score': 0.789715, 'tone_id': 'excited', 'tone_name': 'Excited'},\n",
       "    {'score': 0.919279, 'tone_id': 'polite', 'tone_name': 'Polite'}]},\n",
       "  {'utterance_id': 3,\n",
       "   'utterance_text': 'How can I have a comfortable temperature & still afford to pay my bill?',\n",
       "   'tones': []},\n",
       "  {'utterance_id': 4,\n",
       "   'utterance_text': 'Help paying energy bill',\n",
       "   'tones': []},\n",
       "  {'utterance_id': 5,\n",
       "   'utterance_text': 'Hi, I’m looking for resources to both help reduce and afford my energy bill.',\n",
       "   'tones': [{'score': 0.744538,\n",
       "     'tone_id': 'excited',\n",
       "     'tone_name': 'Excited'}]},\n",
       "  {'utterance_id': 6,\n",
       "   'utterance_text': 'My energy bill is rather high. Can you help?',\n",
       "   'tones': []},\n",
       "  {'utterance_id': 7,\n",
       "   'utterance_text': 'Not enough money to pay my bill',\n",
       "   'tones': [{'score': 0.669581,\n",
       "     'tone_id': 'frustrated',\n",
       "     'tone_name': 'Frustrated'},\n",
       "    {'score': 0.531406, 'tone_id': 'sad', 'tone_name': 'Sad'}]},\n",
       "  {'utterance_id': 8,\n",
       "   'utterance_text': 'Hello bot, what can I do to lower my energy bill?',\n",
       "   'tones': [{'score': 0.698349, 'tone_id': 'polite', 'tone_name': 'Polite'}]},\n",
       "  {'utterance_id': 9,\n",
       "   'utterance_text': 'I cannot afford to pay my bill this month, what solutions do you have for me?',\n",
       "   'tones': [{'score': 0.703135,\n",
       "     'tone_id': 'frustrated',\n",
       "     'tone_name': 'Frustrated'},\n",
       "    {'score': 0.607499, 'tone_id': 'sad', 'tone_name': 'Sad'}]},\n",
       "  {'utterance_id': 10,\n",
       "   'utterance_text': 'How can I afford my bill',\n",
       "   'tones': []}]}"
      ]
     },
     "execution_count": 6,
     "metadata": {},
     "output_type": "execute_result"
    }
   ],
   "source": [
    "res"
   ]
  },
  {
   "cell_type": "markdown",
   "metadata": {},
   "source": [
    "###### Based on the results of the Tone Analysis of the user inputs from the 11 user testing participants the following conclusions can be drawn:\n"
   ]
  },
  {
   "cell_type": "markdown",
   "metadata": {},
   "source": [
    "Many user inputs (users 1-2, 4-5, 7 & 11) did not produce a tone. These messages are considered neutral and do not contain any strong emotion behind the message.\n",
    "\n",
    "When users ask for help, the Tone Analyzer often identifies this as excitement. Additional user testing to identify appropriate responses to messages with this tone is necessary.\n",
    "\n",
    "The Tone Analyzer correctly identifies frustration in user 8's message. This is very important because many users will likely be frustrated and it is important to identify frustration in order for the bot to resolve it.\n",
    "\n",
    "The Tone analyzer can even identify frustration in conjunction with sadness, when this is identified in a users message it is clear that he or she needs extra support."
   ]
  },
  {
   "cell_type": "markdown",
   "metadata": {},
   "source": [
    "### Avoiding Disconnection Inputs"
   ]
  },
  {
   "cell_type": "code",
   "execution_count": 7,
   "metadata": {},
   "outputs": [],
   "source": [
    "chat = [\n",
    "    {\n",
    "    \"text\":\"Help avoiding electricity shutoff\", \n",
    "    \"user\":\"User_1\"\n",
    "    }, \n",
    "    {\n",
    "    \"text\":\"Will my electricity stay on if I can’t pay my bill? How to keep electricity on if I can’t pay. How to pay bill later but keep electricity on\", \n",
    "    \"user\":\"User_2\"\n",
    "    }, \n",
    "    {\n",
    "    \"text\":\"How can I avoid electricity shut off?\", \n",
    "    \"user\":\"User_3\"\n",
    "    }, \n",
    "    {\n",
    "    \"text\":\"Help to pay power bill\", \n",
    "    \"user\":\"User_4\"\n",
    "    }, \n",
    "    {\n",
    "    \"text\":\"I fear that I will not be able to continue using my electrify this season due to financial inability. This is concerning because I have a family that I must provide for. Can you help?\", \n",
    "    \"user\":\"User_5\"\n",
    "    }, \n",
    "    {\n",
    "    \"text\":\"How can I avoid my electric being shut off\", \n",
    "    \"user\":\"User_6\"\n",
    "    }, \n",
    "    {\n",
    "    \"text\":\"How do I prevent shutoff?\", \n",
    "    \"user\":\"User_7\"\n",
    "    }, \n",
    "    {\n",
    "    \"text\":\"Is there a way I can pay the bill over an extended period of time?\", \n",
    "    \"user\":\"User_8\"\n",
    "    }, \n",
    "    {\n",
    "    \"text\":\"I’m about to get my electricity shut off. What should I do immediately?\", \n",
    "    \"user\":\"User_9\"\n",
    "    }, \n",
    "    {\n",
    "    \"text\":\"Hi, I am currently facing the threat of electricity shutoff and am looking to avoid that by any means possible, what should I do?\", \n",
    "    \"user\":\"User_10\"\n",
    "    }, \n",
    "    {\n",
    "    \"text\":\"How can I keep my electricity from being shut off\", \n",
    "    \"user\":\"User_11\"\n",
    "    }\n",
    "]"
   ]
  },
  {
   "cell_type": "code",
   "execution_count": 8,
   "metadata": {},
   "outputs": [],
   "source": [
    "res = ta.tone_chat(chat).get_result()"
   ]
  },
  {
   "cell_type": "code",
   "execution_count": 9,
   "metadata": {},
   "outputs": [
    {
     "data": {
      "text/plain": [
       "{'utterances_tone': [{'utterance_id': 0,\n",
       "   'utterance_text': 'Help avoiding electricity shutoff',\n",
       "   'tones': []},\n",
       "  {'utterance_id': 1,\n",
       "   'utterance_text': 'Will my electricity stay on if I can’t pay my bill? How to keep electricity on if I can’t pay. How to pay bill later but keep electricity on',\n",
       "   'tones': [{'score': 0.599778, 'tone_id': 'sad', 'tone_name': 'Sad'}]},\n",
       "  {'utterance_id': 2,\n",
       "   'utterance_text': 'How can I avoid electricity shut off?',\n",
       "   'tones': []},\n",
       "  {'utterance_id': 3, 'utterance_text': 'Help to pay power bill', 'tones': []},\n",
       "  {'utterance_id': 4,\n",
       "   'utterance_text': 'I fear that I will not be able to continue using my electrify this season due to financial inability. This is concerning because I have a family that I must provide for. Can you help?',\n",
       "   'tones': [{'score': 0.562048, 'tone_id': 'polite', 'tone_name': 'Polite'},\n",
       "    {'score': 0.60775, 'tone_id': 'sad', 'tone_name': 'Sad'}]},\n",
       "  {'utterance_id': 5,\n",
       "   'utterance_text': 'How can I avoid my electric being shut off',\n",
       "   'tones': []},\n",
       "  {'utterance_id': 6,\n",
       "   'utterance_text': 'How do I prevent shutoff?',\n",
       "   'tones': []},\n",
       "  {'utterance_id': 7,\n",
       "   'utterance_text': 'Is there a way I can pay the bill over an extended period of time?',\n",
       "   'tones': []},\n",
       "  {'utterance_id': 8,\n",
       "   'utterance_text': 'I’m about to get my electricity shut off. What should I do immediately?',\n",
       "   'tones': []},\n",
       "  {'utterance_id': 9,\n",
       "   'utterance_text': 'Hi, I am currently facing the threat of electricity shutoff and am looking to avoid that by any means possible, what should I do?',\n",
       "   'tones': []},\n",
       "  {'utterance_id': 10,\n",
       "   'utterance_text': 'How can I keep my electricity from being shut off',\n",
       "   'tones': []}]}"
      ]
     },
     "execution_count": 9,
     "metadata": {},
     "output_type": "execute_result"
    }
   ],
   "source": [
    "res"
   ]
  },
  {
   "cell_type": "markdown",
   "metadata": {},
   "source": [
    "###### Based on the results of the Tone Analysis of the user inputs from the 11 user testing participants the following conclusions can be drawn:"
   ]
  },
  {
   "cell_type": "markdown",
   "metadata": {},
   "source": [
    "For these inputs regarding 'avoiding electricity disconnection/ shutoff', the Tone analyzer had a lot of difficulty identifying tones. This is likely because the Tone Analyzer cannot take the context of the situation into account. A good course of action would be to hardcode in a sympathetic response to any individual seeking help to avoid electricity connection, with extra support to those messages identified as 'sad' or 'frustrated'.\n",
    "\n",
    "Additional user testing to identify how much extra support 'sad' messages should recieve will be conducted in the next phase.\n"
   ]
  },
  {
   "cell_type": "markdown",
   "metadata": {},
   "source": [
    "### Frustrated Avoiding Disconnection Inputs"
   ]
  },
  {
   "cell_type": "markdown",
   "metadata": {},
   "source": [
    "During the user testing, users were given the following promt:\n",
    "\n",
    "'Imagine the bot is not responding with valid information and you are getting very frustrated and annoyed. Now how would you ask the bot for help avoiding electricity disconnection?'"
   ]
  },
  {
   "cell_type": "code",
   "execution_count": 11,
   "metadata": {},
   "outputs": [],
   "source": [
    "chat = [\n",
    "    {\n",
    "    \"text\":\"Avoid electricity disconnection!\", \n",
    "    \"user\":\"User_1\"\n",
    "    }, \n",
    "    {\n",
    "    \"text\":\"keep electricity on!!!!!!\", \n",
    "    \"user\":\"User_2\"\n",
    "    }, \n",
    "    {\n",
    "    \"text\":\"How can I ensure that my electricity will not shut off\", \n",
    "    \"user\":\"User_3\"\n",
    "    }, \n",
    "    {\n",
    "    \"text\":\"Don’t shut off my power!\", \n",
    "    \"user\":\"User_4\"\n",
    "    }, \n",
    "    {\n",
    "    \"text\":\"I am afraid I will not make it through the season without electricity for a number of reasons. This is urgent. Is there anyone else I can speak to about ways to prevent this disconnection?\", \n",
    "    \"user\":\"User_5\"\n",
    "    }, \n",
    "    {\n",
    "    \"text\":\"Listen here motherfucker, you tell me how to avoid disconnection or you will disconnect too\", \n",
    "    \"user\":\"User_6\"\n",
    "    }, \n",
    "    {\n",
    "    \"text\":\"Can I speak to a human? I don’t want my electricity to be shut off\", \n",
    "    \"user\":\"User_7\"\n",
    "    }, \n",
    "    {\n",
    "    \"text\":\"Not sure, I might have to get a loan to cover the bill to avoid shut off.\", \n",
    "    \"user\":\"User_8\"\n",
    "    }, \n",
    "    {\n",
    "    \"text\":\"Thank you for trying, but this information is not helping me with my potential electricity disconnection. Do you have any better advice?\", \n",
    "    \"user\":\"User_9\"\n",
    "    }, \n",
    "    {\n",
    "    \"text\":\"Realistically, I would ask to speak to a human at the first failure on the bots behalf to understand me/supply valid info.\", \n",
    "    \"user\":\"User_10\"\n",
    "    }, \n",
    "    {\n",
    "    \"text\":\"Can I get connected with a real person\", \n",
    "    \"user\":\"User_11\"\n",
    "    }\n",
    "]"
   ]
  },
  {
   "cell_type": "code",
   "execution_count": 12,
   "metadata": {},
   "outputs": [],
   "source": [
    "res = ta.tone_chat(chat).get_result()"
   ]
  },
  {
   "cell_type": "code",
   "execution_count": 13,
   "metadata": {},
   "outputs": [
    {
     "data": {
      "text/plain": [
       "{'utterances_tone': [{'utterance_id': 0,\n",
       "   'utterance_text': 'Avoid electricity disconnection!',\n",
       "   'tones': []},\n",
       "  {'utterance_id': 1,\n",
       "   'utterance_text': 'keep electricity on!!!!!!',\n",
       "   'tones': [{'score': 0.585367,\n",
       "     'tone_id': 'excited',\n",
       "     'tone_name': 'Excited'}]},\n",
       "  {'utterance_id': 2,\n",
       "   'utterance_text': 'How can I ensure that my electricity will not shut off',\n",
       "   'tones': [{'score': 0.732845,\n",
       "     'tone_id': 'frustrated',\n",
       "     'tone_name': 'Frustrated'}]},\n",
       "  {'utterance_id': 3,\n",
       "   'utterance_text': 'Don’t shut off my power!',\n",
       "   'tones': [{'score': 0.619595,\n",
       "     'tone_id': 'frustrated',\n",
       "     'tone_name': 'Frustrated'}]},\n",
       "  {'utterance_id': 4,\n",
       "   'utterance_text': 'I am afraid I will not make it through the season without electricity for a number of reasons. This is urgent. Is there anyone else I can speak to about ways to prevent this disconnection?',\n",
       "   'tones': [{'score': 0.640504, 'tone_id': 'sad', 'tone_name': 'Sad'}]},\n",
       "  {'utterance_id': 5,\n",
       "   'utterance_text': 'Listen here motherfucker, you tell me how to avoid disconnection or you will disconnect too',\n",
       "   'tones': [{'score': 0.533829,\n",
       "     'tone_id': 'frustrated',\n",
       "     'tone_name': 'Frustrated'},\n",
       "    {'score': 0.88742, 'tone_id': 'impolite', 'tone_name': 'Impolite'}]},\n",
       "  {'utterance_id': 6,\n",
       "   'utterance_text': 'Can I speak to a human? I don’t want my electricity to be shut off',\n",
       "   'tones': [{'score': 0.623777, 'tone_id': 'sad', 'tone_name': 'Sad'}]},\n",
       "  {'utterance_id': 7,\n",
       "   'utterance_text': 'Not sure, I might have to get a loan to cover the bill to avoid shut off.',\n",
       "   'tones': []},\n",
       "  {'utterance_id': 8,\n",
       "   'utterance_text': 'Thank you for trying, but this information is not helping me with my potential electricity disconnection. Do you have any better advice?',\n",
       "   'tones': [{'score': 0.674219, 'tone_id': 'excited', 'tone_name': 'Excited'},\n",
       "    {'score': 0.601069, 'tone_id': 'polite', 'tone_name': 'Polite'},\n",
       "    {'score': 0.684572, 'tone_id': 'satisfied', 'tone_name': 'Satisfied'}]},\n",
       "  {'utterance_id': 9,\n",
       "   'utterance_text': 'Realistically, I would ask to speak to a human at the first failure on the bots behalf to understand me/supply valid info.',\n",
       "   'tones': [{'score': 0.585269, 'tone_id': 'polite', 'tone_name': 'Polite'}]},\n",
       "  {'utterance_id': 10,\n",
       "   'utterance_text': 'Can I get connected with a real person',\n",
       "   'tones': []}]}"
      ]
     },
     "execution_count": 13,
     "metadata": {},
     "output_type": "execute_result"
    }
   ],
   "source": [
    "res"
   ]
  },
  {
   "cell_type": "markdown",
   "metadata": {},
   "source": [
    "###### Based on the results of the Tone Analysis of the user inputs from the 11 user testing participants the following conclusions can be drawn:"
   ]
  },
  {
   "cell_type": "markdown",
   "metadata": {},
   "source": [
    "At first glance, it seems like the Tone Analyzer is doing a much better job of identifying emotions/ tones in this round where the users were explicitly instructed to convey frustration.\n",
    "\n",
    "However, there is one situation that is a bit concerning: User input 7 (Utterance_id: 8). The message states: \n",
    "'Thank you for trying, but this information is not helping me with my potential electricity disconnection. Do you have any better advice?'\n",
    "And the Tone Analyzer identifies this message as excited, polite, and satisfied. This is an issue because the user clearly stated that the information is NOT helping, therefore the user is clearly unsatisfied. A chatbot response stating 'I am very happy that you are satisfied with these results!' would further irretate and frustrate the user. Through this analysis, it is clear that careful attention needs to be made to 'satisfied' vs 'unsatisfied' tones. These responses will be hard coded into the chatbot through specific intents to avoid mistakes. "
   ]
  },
  {
   "cell_type": "code",
   "execution_count": null,
   "metadata": {},
   "outputs": [],
   "source": []
  }
 ],
 "metadata": {
  "kernelspec": {
   "display_name": "Python 3",
   "language": "python",
   "name": "python3"
  },
  "language_info": {
   "codemirror_mode": {
    "name": "ipython",
    "version": 3
   },
   "file_extension": ".py",
   "mimetype": "text/x-python",
   "name": "python",
   "nbconvert_exporter": "python",
   "pygments_lexer": "ipython3",
   "version": "3.8.5"
  }
 },
 "nbformat": 4,
 "nbformat_minor": 4
}
